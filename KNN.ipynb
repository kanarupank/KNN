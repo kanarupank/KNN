{
 "cells": [
  {
   "cell_type": "code",
   "execution_count": 1,
   "metadata": {},
   "outputs": [
    {
     "name": "stdout",
     "output_type": "stream",
     "text": [
      "KNN on Wisconsin Brest Cancer Data\n"
     ]
    }
   ],
   "source": [
    "print('KNN on Wisconsin Brest Cancer Data')\n"
   ]
  },
  {
   "cell_type": "code",
   "execution_count": 7,
   "metadata": {},
   "outputs": [
    {
     "name": "stdout",
     "output_type": "stream",
     "text": [
      "[[167   4]\n",
      " [  3  71]]\n",
      "              precision    recall  f1-score   support\n",
      "\n",
      "           2       0.98      0.98      0.98       171\n",
      "           4       0.95      0.96      0.95        74\n",
      "\n",
      "    accuracy                           0.97       245\n",
      "   macro avg       0.96      0.97      0.97       245\n",
      "weighted avg       0.97      0.97      0.97       245\n",
      "\n"
     ]
    }
   ],
   "source": [
    "import numpy as np\n",
    "import pandas as pd\n",
    "from matplotlib import pyplot as plt\n",
    "from sklearn.datasets import load_breast_cancer\n",
    "from sklearn.metrics import confusion_matrix\n",
    "from sklearn.neighbors import KNeighborsClassifier\n",
    "from sklearn.model_selection import train_test_split\n",
    "import seaborn as sns\n",
    "sns.set()\n",
    "\n",
    "#column names\n",
    "col_names = ['Code Number', 'Clump Thickness','Uniformity of Cell Size', 'Uniformity of Cell Shape', 'Marginal Adhesion', 'Single Epithelial Cell Size', 'Bare Nuclei', 'Bland Chromatin', 'Normal Nucleoli', 'Mitoses', 'Class']\n",
    "\n",
    "# load dataset\n",
    "#wbcd = pd.read_csv('wbcd.csv', header=None, names=col_names)\n",
    "wbcdReplacedData = pd.read_csv('wbcdReplacedData.csv', header=None, names=col_names)\n",
    "feature_cols = [ 'Clump Thickness','Uniformity of Cell Size', 'Uniformity of Cell Shape', 'Marginal Adhesion', 'Single Epithelial Cell Size', 'Bare Nuclei', 'Bland Chromatin', 'Normal Nucleoli', 'Mitoses']\n",
    "features= wbcdReplacedData[feature_cols] # Features\n",
    "result = wbcdReplacedData.Class # Target variable\n",
    "featuresReplacedData= wbcdReplacedData[feature_cols] # Features all data\n",
    "resultReplacedData = wbcdReplacedData.Class # Target variable all data\n",
    "\n",
    "X_train_, X_test_, y_train_, y_test_ = train_test_split(featuresReplacedData, resultReplacedData, test_size = 0.35)\n",
    "\n",
    "\n",
    "knn = KNeighborsClassifier(n_neighbors=5\n",
    "                           \n",
    "                        , metric='euclidean')\n",
    "knn.fit(X_train_, y_train_)\n",
    "\n",
    "y_pred = knn.predict(X_test_)\n",
    "\n",
    "from sklearn.metrics import classification_report, confusion_matrix\n",
    "print(confusion_matrix(y_test_,y_pred))\n",
    "print(classification_report(y_test_,y_pred))\n",
    "\n",
    "\n",
    "\n",
    "\n"
   ]
  },
  {
   "cell_type": "code",
   "execution_count": 2,
   "metadata": {},
   "outputs": [
    {
     "data": {
      "text/plain": [
       "<matplotlib.collections.PathCollection at 0x1cada83c148>"
      ]
     },
     "execution_count": 2,
     "metadata": {},
     "output_type": "execute_result"
    },
    {
     "data": {
      "image/png": "[encoded data removed]",
      "text/plain": [
       "<Figure size 432x288 with 1 Axes>"
      ]
     },
     "metadata": {
      "needs_background": "light"
     },
     "output_type": "display_data"
    }
   ],
   "source": [
    "# sns.scatterplot(\n",
    "#     x='mean area',\n",
    "#     y='mean compactness',\n",
    "#     hue='benign',\n",
    "#     data=X_test.join(y_test_, how='outer')\n",
    "# )\n",
    "\n",
    "plt.scatter(\n",
    "    X_test_['Clump Thickness'],\n",
    "    X_test_['Uniformity of Cell Size'],\n",
    "    c=y_pred,\n",
    "    cmap='coolwarm',\n",
    "    alpha=0.7\n",
    ")\n",
    "\n"
   ]
  }
 ],
 "metadata": {
  "kernelspec": {
   "display_name": "Python 3",
   "language": "python",
   "name": "python3"
  },
  "language_info": {
   "codemirror_mode": {
    "name": "ipython",
    "version": 3
   },
   "file_extension": ".py",
   "mimetype": "text/x-python",
   "name": "python",
   "nbconvert_exporter": "python",
   "pygments_lexer": "ipython3",
   "version": "3.7.4"
  }
 },
 "nbformat": 4,
 "nbformat_minor": 2
}
